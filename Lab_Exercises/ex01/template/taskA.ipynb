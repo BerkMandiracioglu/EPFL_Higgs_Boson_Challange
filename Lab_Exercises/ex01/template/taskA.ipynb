{
 "cells": [
  {
   "cell_type": "code",
   "execution_count": 1,
   "metadata": {},
   "outputs": [],
   "source": [
    "%matplotlib inline\n",
    "import numpy as np\n",
    "import matplotlib.pyplot as plt\n",
    "%load_ext autoreload\n",
    "%autoreload 2"
   ]
  },
  {
   "cell_type": "markdown",
   "metadata": {},
   "source": [
    "Data Generation\n",
    "==="
   ]
  },
  {
   "cell_type": "code",
   "execution_count": 2,
   "metadata": {},
   "outputs": [],
   "source": [
    "num_samples, num_features = 10, 5"
   ]
  },
  {
   "cell_type": "code",
   "execution_count": 3,
   "metadata": {},
   "outputs": [],
   "source": [
    "np.random.seed(10)\n",
    "data = np.random.rand(num_samples, num_features)"
   ]
  },
  {
   "cell_type": "markdown",
   "metadata": {},
   "source": [
    "Solution\n",
    "==="
   ]
  },
  {
   "cell_type": "code",
   "execution_count": 4,
   "metadata": {
    "scrolled": false
   },
   "outputs": [
    {
     "name": "stdout",
     "output_type": "stream",
     "text": [
      "[[0.77132064 0.02075195 0.63364823 0.74880388 0.49850701]\n",
      " [0.22479665 0.19806286 0.76053071 0.16911084 0.08833981]\n",
      " [0.68535982 0.95339335 0.00394827 0.51219226 0.81262096]\n",
      " [0.61252607 0.72175532 0.29187607 0.91777412 0.71457578]\n",
      " [0.54254437 0.14217005 0.37334076 0.67413362 0.44183317]\n",
      " [0.43401399 0.61776698 0.51313824 0.65039718 0.60103895]\n",
      " [0.8052232  0.52164715 0.90864888 0.31923609 0.09045935]\n",
      " [0.30070006 0.11398436 0.82868133 0.04689632 0.62628715]\n",
      " [0.54758616 0.819287   0.19894754 0.8568503  0.35165264]\n",
      " [0.75464769 0.29596171 0.88393648 0.32551164 0.1650159 ]]\n"
     ]
    }
   ],
   "source": [
    "print(data)"
   ]
  },
  {
   "cell_type": "code",
   "execution_count": 11,
   "metadata": {},
   "outputs": [],
   "source": [
    "def standardize(x):\n",
    "    x = (x - np.mean(x))/np.std(x)\n",
    "    return x\n",
    "def standardize_v2(x):\n",
    "    for ii in range(len(x)):\n",
    "        x[ii] = (x[ii] - np.mean(x[ii]))/np.std(x[ii])\n",
    "    return x\n",
    "\n",
    "std_data = standardize(data)"
   ]
  },
  {
   "cell_type": "code",
   "execution_count": 12,
   "metadata": {},
   "outputs": [],
   "source": [
    "std_data2 = standardize_v2(data)"
   ]
  },
  {
   "cell_type": "code",
   "execution_count": 13,
   "metadata": {},
   "outputs": [
    {
     "name": "stdout",
     "output_type": "stream",
     "text": [
      "[[ 0.86197913 -1.87116608  0.36065436  0.77998587 -0.13145328]\n",
      " [-0.26342346 -0.37455074  1.96352175 -0.49489884 -0.83064871]\n",
      " [ 0.27947082  1.09495185 -1.79369593 -0.24738438  0.66665763]\n",
      " [-0.19085472  0.3412883  -1.75299726  1.29625264  0.30631105]\n",
      " [ 0.60541755 -1.64438471 -0.34537934  1.34485005  0.03949646]\n",
      " [-1.63609033  0.68978992 -0.63456358  1.10281149  0.4780525 ]\n",
      " [ 0.91371769 -0.02446828  1.25589232 -0.69412718 -1.45101455]\n",
      " [-0.27538787 -0.89782305  1.48468977 -1.12146766  0.80998881]\n",
      " [-0.0283688   1.0306067  -1.38721538  1.17701266 -0.79203518]\n",
      " [ 0.95879913 -0.67226127  1.41854245 -0.56718345 -1.13789686]] \n",
      "\n",
      " [ 0.12252591 -0.23280174  0.05694491  0.25758512 -0.20425421] \n",
      "\n",
      " [0.75172764 0.9957692  1.35954267 0.91665941 0.75776425]\n"
     ]
    }
   ],
   "source": [
    "print(std_data, \"\\n\\n\", np.mean(std_data, axis=0), \"\\n\\n\", np.std(std_data, axis=0))"
   ]
  },
  {
   "cell_type": "code",
   "execution_count": 14,
   "metadata": {},
   "outputs": [
    {
     "name": "stdout",
     "output_type": "stream",
     "text": [
      "[[ 0.86197913 -1.87116608  0.36065436  0.77998587 -0.13145328]\n",
      " [-0.26342346 -0.37455074  1.96352175 -0.49489884 -0.83064871]\n",
      " [ 0.27947082  1.09495185 -1.79369593 -0.24738438  0.66665763]\n",
      " [-0.19085472  0.3412883  -1.75299726  1.29625264  0.30631105]\n",
      " [ 0.60541755 -1.64438471 -0.34537934  1.34485005  0.03949646]\n",
      " [-1.63609033  0.68978992 -0.63456358  1.10281149  0.4780525 ]\n",
      " [ 0.91371769 -0.02446828  1.25589232 -0.69412718 -1.45101455]\n",
      " [-0.27538787 -0.89782305  1.48468977 -1.12146766  0.80998881]\n",
      " [-0.0283688   1.0306067  -1.38721538  1.17701266 -0.79203518]\n",
      " [ 0.95879913 -0.67226127  1.41854245 -0.56718345 -1.13789686]] \n",
      "\n",
      " [ 0.12252591 -0.23280174  0.05694491  0.25758512 -0.20425421] \n",
      "\n",
      " [0.75172764 0.9957692  1.35954267 0.91665941 0.75776425]\n"
     ]
    }
   ],
   "source": [
    "print(std_data2, \"\\n\\n\", np.mean(std_data, axis=0), \"\\n\\n\", np.std(std_data, axis=0))"
   ]
  },
  {
   "cell_type": "code",
   "execution_count": null,
   "metadata": {},
   "outputs": [],
   "source": []
  }
 ],
 "metadata": {
  "kernelspec": {
   "display_name": "Python 3",
   "language": "python",
   "name": "python3"
  },
  "language_info": {
   "codemirror_mode": {
    "name": "ipython",
    "version": 3
   },
   "file_extension": ".py",
   "mimetype": "text/x-python",
   "name": "python",
   "nbconvert_exporter": "python",
   "pygments_lexer": "ipython3",
   "version": "3.7.3"
  }
 },
 "nbformat": 4,
 "nbformat_minor": 1
}
